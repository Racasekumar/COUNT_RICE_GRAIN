{
  "nbformat": 4,
  "nbformat_minor": 0,
  "metadata": {
    "colab": {
      "private_outputs": true,
      "provenance": []
    },
    "kernelspec": {
      "name": "python3",
      "display_name": "Python 3"
    },
    "language_info": {
      "name": "python"
    }
  },
  "cells": [
    {
      "cell_type": "markdown",
      "source": [
        "## STEP 1 - Importing Required Libraries"
      ],
      "metadata": {
        "id": "CqLWuD9RzFpy"
      }
    },
    {
      "cell_type": "code",
      "execution_count": null,
      "metadata": {
        "id": "B8thLz3Qqgrw"
      },
      "outputs": [],
      "source": [
        "import cv2\n",
        "import numpy as np\n",
        "from PIL import Image\n",
        "from numpy import asarray \n",
        "\n",
        "import matplotlib.pyplot as plt\n",
        "import matplotlib.image as mpimg\n",
        "\n",
        "from skimage import filters, feature, measure, color\n",
        "from skimage.segmentation import watershed\n",
        "from scipy import ndimage\n",
        "from google.colab.patches import cv2_imshow"
      ]
    },
    {
      "cell_type": "markdown",
      "source": [
        "## STEP 2- Image Pre-processing"
      ],
      "metadata": {
        "id": "0zloaV_LzP9z"
      }
    },
    {
      "cell_type": "code",
      "source": [
        "img=cv2.imread(\"/content/rice_img.jpg\")\n",
        "gray=cv2.cvtColor(img,cv2.COLOR_BGR2GRAY)\n",
        "\n",
        "cv2_imshow(img)\n",
        "cv2_imshow(gray)"
      ],
      "metadata": {
        "id": "7jO1cbUxqx1W"
      },
      "execution_count": null,
      "outputs": []
    },
    {
      "cell_type": "code",
      "source": [
        "ret,thresh=cv2.threshold(gray,120,255,cv2.THRESH_BINARY)\n",
        "cv2_imshow(thresh)"
      ],
      "metadata": {
        "id": "EapDt6YyrGu2"
      },
      "execution_count": null,
      "outputs": []
    },
    {
      "cell_type": "markdown",
      "source": [
        "##Noise Removal"
      ],
      "metadata": {
        "id": "4FSx3dXRVqzE"
      }
    },
    {
      "cell_type": "code",
      "source": [
        "kernal=np.ones((3),np.uint8)\n",
        "clear_img=cv2.morphologyEx(thresh,cv2.MORPH_OPEN,kernal,iterations=8)\n",
        "\n",
        "cv2_imshow(clear_img)"
      ],
      "metadata": {
        "id": "T2EjsSavU6Lu"
      },
      "execution_count": null,
      "outputs": []
    },
    {
      "cell_type": "markdown",
      "source": [
        "## STEP 3-Counting the Labels"
      ],
      "metadata": {
        "id": "Krue3LPtVz4x"
      }
    },
    {
      "cell_type": "code",
      "source": [
        "#Copying the preprocessed images as label_img\n",
        "label_img=clear_img.copy()\n",
        "\n",
        "label_count=0\n",
        "\n",
        "#shape function for getting height and width\n",
        "rows,cols=label_img.shape\n",
        "\n",
        "#looping through the pixel of image using rows and column of image\n",
        "for j in range(rows):\n",
        "  for i in range(cols):\n",
        "    pixel=label_img[j,i]\n",
        "\n",
        "    #Here there is single channel with 2pixel intensities,Either 0 or 255\n",
        "    #Counting the total number of pixel intensity 255\n",
        "    if 255==pixel:\n",
        "      label_count+=1\n",
        "      ##Applying floodFill method of opencv which will help in filling the backgroud that will ultimately helps in couting the contoured grain ea\n",
        "      cv2.floodFill(label_img,None,(i,j),label_count)\n",
        "      "
      ],
      "metadata": {
        "id": "T9-dvy1FVzu0"
      },
      "execution_count": null,
      "outputs": []
    },
    {
      "cell_type": "code",
      "source": [
        "print(\"Number of foreground objects\",label_count)\n",
        "cv2_imshow(label_img)"
      ],
      "metadata": {
        "id": "W0xXj1qeVzsP"
      },
      "execution_count": null,
      "outputs": []
    },
    {
      "cell_type": "markdown",
      "source": [
        "## Counting rice grains using Contours method"
      ],
      "metadata": {
        "id": "kF1woeSuYVQ6"
      }
    },
    {
      "cell_type": "code",
      "source": [
        "#Applying Countours method to get the count of rice grains\n",
        "contours,h=cv2.findContours(clear_img,cv2.RETR_TREE,cv2.CHAIN_APPROX_SIMPLE)\n",
        "\n",
        "output_contour=cv2.cvtColor(clear_img,cv2.COLOR_GRAY2BGR)\n",
        "cv2.drawContours(output_contour,contours,-1,(0,0,255),2)\n",
        "print(\"Number of detected contours\",len(contours))"
      ],
      "metadata": {
        "id": "yyjoV1ekVznO"
      },
      "execution_count": null,
      "outputs": []
    },
    {
      "cell_type": "code",
      "source": [
        "cv2_imshow(output_contour)"
      ],
      "metadata": {
        "id": "VLGqwOHmVzkk"
      },
      "execution_count": null,
      "outputs": []
    },
    {
      "cell_type": "markdown",
      "source": [
        "## STEP 3-Applying Watershed Algorithm"
      ],
      "metadata": {
        "id": "-R2pXM_Pu-sR"
      }
    },
    {
      "cell_type": "code",
      "source": [
        "#To visualize the segmentation conveniently, There needed a colour-code the labelled regions using the color, thus I did it\n",
        "#Applying  distance_transform_edt to computes the distance from non-zero (i.e. non-background) points to the nearest zero (i.e. background) point.\n",
        "\n",
        "dist_trans=ndimage.distance_transform_edt(clear_img)\n",
        "\n",
        "#Applying peak_local_max function for getting coordinates of local peaks (maxima) in an image.\n",
        "local_max=feature.peak_local_max(dist_trans,min_distance=23)\n",
        "\n",
        "local_max_mask=np.zeros(dist_trans.shape,dtype=bool)\n",
        "local_max_mask[tuple(local_max.T)]=True\n",
        "\n",
        "#Aplying Watershed algorithm\n",
        "labels=watershed(-dist_trans,measure.label(local_max_mask),mask=clear_img)\n",
        "\n"
      ],
      "metadata": {
        "id": "YUy652hrVzdS"
      },
      "execution_count": null,
      "outputs": []
    },
    {
      "cell_type": "markdown",
      "source": [
        "## STEP 5-Counting Total Grains and Broken grains using grains area"
      ],
      "metadata": {
        "id": "BjjiLJoJwxSz"
      }
    },
    {
      "cell_type": "code",
      "source": [
        "#label2rgb function, specifying the background label with argument bg_label=0.\n",
        "plt.figure(figsize=(30,10))\n",
        "plt.imshow(color.label2rgb(labels,bg_label=0))\n",
        "print(\"Number of Rice grains are :%d\" % labels.max())"
      ],
      "metadata": {
        "id": "rMO5Zp7UxT0P"
      },
      "execution_count": null,
      "outputs": []
    },
    {
      "cell_type": "markdown",
      "source": [
        "## Count the Total number of Rice grains (Done) "
      ],
      "metadata": {
        "id": "iReW-c82zr3M"
      }
    },
    {
      "cell_type": "code",
      "source": [
        "#Creating A list name count for counting the total Broken rice grains\n",
        "count=[]\n",
        "\n",
        "#Iterating through contour and filtering out the rice grains with area less than 800 and then appending to the count variable.\n",
        "for x in contours:\n",
        "\n",
        "  #Using contourArea method to get the area of rice (Contour)\n",
        "  area=cv2.contourArea(x)\n",
        "  if area<800:\n",
        "    count.append(x)\n",
        "\n",
        "print(\"Total Number of Broken rice present in the Image is:\",len(count))"
      ],
      "metadata": {
        "id": "JzQJsh1VxUDe"
      },
      "execution_count": null,
      "outputs": []
    }
  ]
}